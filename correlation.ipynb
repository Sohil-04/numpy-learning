{
  "metadata": {
    "kernelspec": {
      "language": "python",
      "display_name": "Python 3",
      "name": "python3"
    },
    "language_info": {
      "name": "python",
      "version": "3.10.12",
      "mimetype": "text/x-python",
      "codemirror_mode": {
        "name": "ipython",
        "version": 3
      },
      "pygments_lexer": "ipython3",
      "nbconvert_exporter": "python",
      "file_extension": ".py"
    },
    "kaggle": {
      "accelerator": "none",
      "dataSources": [],
      "dockerImageVersionId": 30918,
      "isInternetEnabled": false,
      "language": "python",
      "sourceType": "notebook",
      "isGpuEnabled": false
    },
    "colab": {
      "name": "correlation",
      "provenance": [],
      "include_colab_link": true
    }
  },
  "nbformat_minor": 0,
  "nbformat": 4,
  "cells": [
    {
      "cell_type": "markdown",
      "metadata": {
        "id": "view-in-github",
        "colab_type": "text"
      },
      "source": [
        "<a href=\"https://colab.research.google.com/github/Sohil-04/numpy-learning/blob/main/correlation.ipynb\" target=\"_parent\"><img src=\"https://colab.research.google.com/assets/colab-badge.svg\" alt=\"Open In Colab\"/></a>"
      ]
    },
    {
      "cell_type": "code",
      "source": [
        "# Importing necessary libraries\n",
        "import numpy as np\n",
        "import pandas as pd\n",
        "import matplotlib.pyplot as plt\n"
      ],
      "metadata": {
        "trusted": true,
        "execution": {
          "iopub.status.busy": "2025-03-23T16:14:58.013952Z",
          "iopub.execute_input": "2025-03-23T16:14:58.01439Z",
          "iopub.status.idle": "2025-03-23T16:14:58.890995Z",
          "shell.execute_reply.started": "2025-03-23T16:14:58.014344Z",
          "shell.execute_reply": "2025-03-23T16:14:58.889871Z"
        },
        "id": "0jW0kkWikOeZ"
      },
      "outputs": [],
      "execution_count": null
    },
    {
      "cell_type": "code",
      "source": [
        "# Sample data (two variables)\n",
        "data = {\n",
        "    'X': [1,2,3,4,5,6],\n",
        "    'Y': [2,4,7,9,12,14]\n",
        "}"
      ],
      "metadata": {
        "trusted": true,
        "execution": {
          "iopub.status.busy": "2025-03-23T16:14:58.892367Z",
          "iopub.execute_input": "2025-03-23T16:14:58.89283Z",
          "iopub.status.idle": "2025-03-23T16:14:58.897766Z",
          "shell.execute_reply.started": "2025-03-23T16:14:58.892793Z",
          "shell.execute_reply": "2025-03-23T16:14:58.896386Z"
        },
        "jupyter": {
          "source_hidden": true
        },
        "id": "vcxGw1pwkOea"
      },
      "outputs": [],
      "execution_count": null
    },
    {
      "cell_type": "code",
      "source": [
        "# Create a DataFrame\n",
        "df = pd.DataFrame(data)"
      ],
      "metadata": {
        "trusted": true,
        "execution": {
          "iopub.status.busy": "2025-03-23T16:14:58.900182Z",
          "iopub.execute_input": "2025-03-23T16:14:58.900647Z",
          "iopub.status.idle": "2025-03-23T16:14:58.921728Z",
          "shell.execute_reply.started": "2025-03-23T16:14:58.900588Z",
          "shell.execute_reply": "2025-03-23T16:14:58.920112Z"
        },
        "id": "_aa0ADyOkOea"
      },
      "outputs": [],
      "execution_count": null
    },
    {
      "cell_type": "code",
      "source": [
        "# Calculate Pearson's correlation coefficient using pandas' .corr() method\n",
        "pearson_corr = df.corr(method='pearson')\n",
        "print(\"Pearson Correlation Coefficient (Pandas):\\n\", pearson_corr)\n"
      ],
      "metadata": {
        "trusted": true,
        "execution": {
          "iopub.status.busy": "2025-03-23T16:14:58.923196Z",
          "iopub.execute_input": "2025-03-23T16:14:58.923446Z",
          "iopub.status.idle": "2025-03-23T16:14:58.959141Z",
          "shell.execute_reply.started": "2025-03-23T16:14:58.923425Z",
          "shell.execute_reply": "2025-03-23T16:14:58.95759Z"
        },
        "id": "82WPUs1IkOea",
        "outputId": "c3774e5d-6890-4201-ac6e-2dc88cbfdd6d"
      },
      "outputs": [
        {
          "name": "stdout",
          "text": "Pearson Correlation Coefficient (Pandas):\n           X         Y\nX  1.000000  0.998381\nY  0.998381  1.000000\n",
          "output_type": "stream"
        }
      ],
      "execution_count": null
    },
    {
      "cell_type": "code",
      "source": [
        "# Alternatively, calculate Pearson's correlation coefficient manually using numpy\n",
        "x = df['X'].values\n",
        "y = df['Y'].values"
      ],
      "metadata": {
        "trusted": true,
        "execution": {
          "iopub.status.busy": "2025-03-23T16:14:58.960503Z",
          "iopub.execute_input": "2025-03-23T16:14:58.960935Z",
          "iopub.status.idle": "2025-03-23T16:14:58.970029Z",
          "shell.execute_reply.started": "2025-03-23T16:14:58.960891Z",
          "shell.execute_reply": "2025-03-23T16:14:58.968067Z"
        },
        "id": "hj9jV1XNkOeb"
      },
      "outputs": [],
      "execution_count": null
    },
    {
      "cell_type": "code",
      "source": [
        "# Using NumPy to calculate Pearson correlation coefficient\n",
        "numerator = np.sum((x - np.mean(x)) * (y - np.mean(y)))\n",
        "denominator = np.sqrt(np.sum((x - np.mean(x))**2) * np.sum((y - np.mean(y))**2))\n",
        "pearson_corr_manual = numerator / denominator\n",
        "\n",
        "print(\"\\nManual Pearson Correlation Coefficient (NumPy):\", pearson_corr_manual)\n"
      ],
      "metadata": {
        "trusted": true,
        "execution": {
          "iopub.status.busy": "2025-03-23T16:14:58.971833Z",
          "iopub.execute_input": "2025-03-23T16:14:58.972319Z",
          "iopub.status.idle": "2025-03-23T16:14:58.993693Z",
          "shell.execute_reply.started": "2025-03-23T16:14:58.97228Z",
          "shell.execute_reply": "2025-03-23T16:14:58.992485Z"
        },
        "id": "mENLGsUvkOeb",
        "outputId": "be0dd041-78e1-4846-d543-a58f15a9f8ad"
      },
      "outputs": [
        {
          "name": "stdout",
          "text": "\nManual Pearson Correlation Coefficient (NumPy): 0.99838143945703\n",
          "output_type": "stream"
        }
      ],
      "execution_count": null
    },
    {
      "cell_type": "code",
      "source": [
        "# Plotting the data\n",
        "plt.scatter(x, y)\n",
        "plt.title('Scatter Plot of X and Y')\n",
        "plt.xlabel('X')\n",
        "plt.ylabel('Y')\n",
        "plt.grid(True)\n",
        "plt.show()"
      ],
      "metadata": {
        "trusted": true,
        "execution": {
          "iopub.status.busy": "2025-03-23T16:14:58.994751Z",
          "iopub.execute_input": "2025-03-23T16:14:58.995157Z",
          "iopub.status.idle": "2025-03-23T16:14:59.402312Z",
          "shell.execute_reply.started": "2025-03-23T16:14:58.995112Z",
          "shell.execute_reply": "2025-03-23T16:14:59.401195Z"
        },
        "id": "vuxl3HDjkOeb",
        "outputId": "55e05e51-7328-4705-c8a2-1d3919a55ab0"
      },
      "outputs": [
        {
          "output_type": "display_data",
          "data": {
            "text/plain": "<Figure size 640x480 with 1 Axes>",
            "image/png": "[encoded data removed]"
          },
          "metadata": {}
        }
      ],
      "execution_count": null
    }
  ]
}